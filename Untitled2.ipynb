{
 "cells": [
  {
   "cell_type": "code",
   "execution_count": 15,
   "metadata": {
    "collapsed": false
   },
   "outputs": [
    {
     "name": "stdout",
     "output_type": "stream",
     "text": [
      "http://www.activistpost.com/2016/09/iransom-house-republicans-introduce-bill-legalize-theft.html?utm_content=buffere551f&utm_medium=social&utm_source=twitter.com&utm_campaign=buffer\n"
     ]
    }
   ],
   "source": [
    "import json, urllib.request\n",
    "from bs4 import BeautifulSoup as bs\n",
    "doc = {}\n",
    "tweet = None\n",
    "with open('single.json', 'r') as f:\n",
    "    tweet = json.loads(f.readline())\n",
    "    with urllib.request.urlopen(tweet['entities']['urls'][0]['url']) as response:\n",
    "        html = response.read()\n",
    "        url = response.geturl()\n",
    "        soup = bs(html, 'html.parser')\n",
    "        doc['images'] = [tag['src'] for tag in soup.findAll('img')]\n",
    "        print(url)\n"
   ]
  }
 ],
 "metadata": {
  "kernelspec": {
   "display_name": "Python 3",
   "language": "python",
   "name": "python3"
  },
  "language_info": {
   "codemirror_mode": {
    "name": "ipython",
    "version": 3
   },
   "file_extension": ".py",
   "mimetype": "text/x-python",
   "name": "python",
   "nbconvert_exporter": "python",
   "pygments_lexer": "ipython3",
   "version": "3.5.2"
  }
 },
 "nbformat": 4,
 "nbformat_minor": 1
}
